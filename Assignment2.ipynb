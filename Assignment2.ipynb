{
  "nbformat": 4,
  "nbformat_minor": 0,
  "metadata": {
    "colab": {
      "name": "Assignment2.ipynb",
      "provenance": [],
      "collapsed_sections": []
    },
    "kernelspec": {
      "name": "python3",
      "display_name": "Python 3"
    }
  },
  "cells": [
    {
      "cell_type": "markdown",
      "metadata": {
        "id": "QkASz3pXVUji",
        "colab_type": "text"
      },
      "source": [
        "# Write a Python Program to implement your own myreduce() function which works exactly like Python's built-in function reduce() "
      ]
    },
    {
      "cell_type": "code",
      "metadata": {
        "id": "yMTrTauuVZCH",
        "colab_type": "code",
        "outputId": "a9aaf954-df40-4300-8c7d-95dcc2fc8e3b",
        "colab": {
          "base_uri": "https://localhost:8080/",
          "height": 35
        }
      },
      "source": [
        "#only return of sum\n",
        "\n",
        "llst=[1,2,3,4,5]\n",
        "\n",
        "def myreduce(lst):\n",
        "  c=0\n",
        "  for each in lst:\n",
        "    c+=each\n",
        "  return c\n",
        "\n",
        "myreduce(llst)"
      ],
      "execution_count": 0,
      "outputs": [
        {
          "output_type": "execute_result",
          "data": {
            "text/plain": [
              "15"
            ]
          },
          "metadata": {
            "tags": []
          },
          "execution_count": 16
        }
      ]
    },
    {
      "cell_type": "code",
      "metadata": {
        "id": "oU2TY9mQ9XW0",
        "colab_type": "code",
        "outputId": "20593249-3663-4104-d11e-65e1108b3665",
        "colab": {
          "base_uri": "https://localhost:8080/",
          "height": 201
        }
      },
      "source": [
        "#reduce method\n",
        "def myreduce(func, somelist):\n",
        "  x =alist[0]\n",
        "\n",
        "  for each in range(1,len(somelist)):\n",
        "    x=func(x,alist[each])\n",
        "    print (x)\n",
        "  return x\n",
        "\n",
        "#sum method\n",
        "def add_sum(x,y):\n",
        "  return (x+y)\n",
        "\n",
        "#subtract method\n",
        "def subt(x,y):\n",
        "  return (y-x)\n",
        "\n",
        "lst=[1,2,3,4,5]\n",
        "\n",
        "print(\"1. Sum: \", myreduce(add_sum, lst))\n",
        "print(\"2. subt\", myreduce(subt, lst))"
      ],
      "execution_count": 0,
      "outputs": [
        {
          "output_type": "stream",
          "text": [
            "3\n",
            "6\n",
            "10\n",
            "15\n",
            "1. Sum:  15\n",
            "1\n",
            "2\n",
            "2\n",
            "3\n",
            "2. subt 3\n"
          ],
          "name": "stdout"
        }
      ]
    },
    {
      "cell_type": "markdown",
      "metadata": {
        "id": "qfP4ihgNbMtV",
        "colab_type": "text"
      },
      "source": [
        "# Write a Python program to implement your own myfilter() function which works exactly like Python's built-in function filter() "
      ]
    },
    {
      "cell_type": "code",
      "metadata": {
        "id": "L_oJstAjGXax",
        "colab_type": "code",
        "outputId": "7ecf3975-3c7c-407b-8001-cd932cab5b39",
        "colab": {
          "base_uri": "https://localhost:8080/",
          "height": 146
        }
      },
      "source": [
        "\n",
        "\n",
        "def myfilter(funct,somlist):\n",
        "  #f=somlist[0]\n",
        "  \n",
        "  for each in range(0,len(somlist)):\n",
        "    f=funct(n,somlist[each])\n",
        "    \n",
        "    print (somlist[each])\n",
        "    print (f)\n",
        "  #return f\n",
        "   \n",
        "\n",
        "def ageFunc(n,x):\n",
        "  if x < n:\n",
        "    return True\n",
        "  else:\n",
        "    return False\n",
        "\n",
        "def divf(n,x):\n",
        "  if x%n==0:\n",
        "    return True\n",
        "  else:\n",
        "    return False\n",
        "\n",
        "x=[15,25,4]\n",
        "n=5\n",
        "\n",
        "#for a in x:\n",
        "print (myfilter(ageFunc,x))\n",
        "\n",
        "#print (\"reduce divf: \", myfilter(divf,x))"
      ],
      "execution_count": 0,
      "outputs": [
        {
          "output_type": "stream",
          "text": [
            "15\n",
            "False\n",
            "25\n",
            "False\n",
            "4\n",
            "True\n",
            " None\n"
          ],
          "name": "stdout"
        }
      ]
    },
    {
      "cell_type": "markdown",
      "metadata": {
        "id": "jUKeDcnhSGQ7",
        "colab_type": "text"
      },
      "source": [
        "# Implement List comprehensions to produce the following lists:['A', 'C', 'A', 'D', 'G', 'I', ’L’, ‘ D’]\n"
      ]
    },
    {
      "cell_type": "code",
      "metadata": {
        "id": "_8eQ1N-ASFPq",
        "colab_type": "code",
        "outputId": "21fe358b-4a35-48e6-fed5-ccbdb4bf809b",
        "colab": {
          "base_uri": "https://localhost:8080/",
          "height": 34
        }
      },
      "source": [
        "my_list=[x for x in 'ACADGILD']\n",
        "print(my_list)"
      ],
      "execution_count": 73,
      "outputs": [
        {
          "output_type": "stream",
          "text": [
            "['A', 'C', 'A', 'D', 'G', 'I', 'L', 'D']\n"
          ],
          "name": "stdout"
        }
      ]
    },
    {
      "cell_type": "markdown",
      "metadata": {
        "id": "fkm6fxQdDvvk",
        "colab_type": "text"
      },
      "source": [
        "# Implement List comprehensions to produce the following lists:['x', 'xx', 'xxx', 'xxxx', 'y', 'yy', 'yyy', 'yyyy', 'z', 'zz', 'zzz', 'zzzz'] "
      ]
    },
    {
      "cell_type": "code",
      "metadata": {
        "id": "AjRVAsiuFg1i",
        "colab_type": "code",
        "outputId": "5a8087ae-c78e-4f0e-ecaf-c54cce8a156d",
        "colab": {
          "base_uri": "https://localhost:8080/",
          "height": 34
        }
      },
      "source": [
        "it_lst=[m*n for m in ('xyz') for n in range(1,5)]\n",
        "print(it_lst)"
      ],
      "execution_count": 0,
      "outputs": [
        {
          "output_type": "stream",
          "text": [
            "['x', 'xx', 'xxx', 'xxxx', 'y', 'yy', 'yyy', 'yyyy', 'z', 'zz', 'zzz', 'zzzz']\n"
          ],
          "name": "stdout"
        }
      ]
    },
    {
      "cell_type": "markdown",
      "metadata": {
        "colab_type": "text",
        "id": "zL4unvFLLHzo"
      },
      "source": [
        "# Implement List comprehensions to produce the following lists:['x', 'y', 'z', 'xx', 'yy', 'zz', 'xx', 'yy', 'zz', 'xxxx', 'yyyy', 'zzzz'] "
      ]
    },
    {
      "cell_type": "code",
      "metadata": {
        "id": "thfbhWUuGLEw",
        "colab_type": "code",
        "outputId": "09e6b3d1-cce6-4f2a-e7a0-7482dcd1c7e8",
        "colab": {
          "base_uri": "https://localhost:8080/",
          "height": 34
        }
      },
      "source": [
        "asc_lst=[m*n for n in range(1,5) for m in ('xyz')]\n",
        "print(asc_lst)"
      ],
      "execution_count": 0,
      "outputs": [
        {
          "output_type": "stream",
          "text": [
            "['x', 'y', 'z', 'xx', 'yy', 'zz', 'xxx', 'yyy', 'zzz', 'xxxx', 'yyyy', 'zzzz']\n"
          ],
          "name": "stdout"
        }
      ]
    },
    {
      "cell_type": "markdown",
      "metadata": {
        "id": "kQhaBgLXLXmL",
        "colab_type": "text"
      },
      "source": [
        "# Implement List comprehensions to produce the following lists. : [[2], [3], [4], [3], [4], [5], [4], [5], [6]] "
      ]
    },
    {
      "cell_type": "code",
      "metadata": {
        "id": "LvpmeHwxOZRz",
        "colab_type": "code",
        "outputId": "dc5d490e-833f-49c3-bd8a-305fe529d458",
        "colab": {
          "base_uri": "https://localhost:8080/",
          "height": 34
        }
      },
      "source": [
        "numb=[2,3,4]\n",
        "nlist=[[nub+n] for nub in numb for n in range(0,3)]\n",
        "print(nlist)"
      ],
      "execution_count": 64,
      "outputs": [
        {
          "output_type": "stream",
          "text": [
            "[[2], [3], [4], [3], [4], [5], [4], [5], [6]]\n"
          ],
          "name": "stdout"
        }
      ]
    },
    {
      "cell_type": "markdown",
      "metadata": {
        "id": "n-oKXYJIa8nh",
        "colab_type": "text"
      },
      "source": [
        "# [[2, 3, 4, 5], [3, 4, 5, 6], [4, 5, 6, 7], [5, 6, 7, 8]] "
      ]
    },
    {
      "cell_type": "code",
      "metadata": {
        "id": "Kyh6MK8mbB56",
        "colab_type": "code",
        "colab": {
          "base_uri": "https://localhost:8080/",
          "height": 34
        },
        "outputId": "e612c2fc-22e0-4104-cc82-18dc863b7cee"
      },
      "source": [
        "nlist2=[[nub+n for nub in [2,3,4,5]] for n in range(0,4)]\n",
        "print(nlist2)"
      ],
      "execution_count": 74,
      "outputs": [
        {
          "output_type": "stream",
          "text": [
            "[[2, 3, 4, 5], [3, 4, 5, 6], [4, 5, 6, 7], [5, 6, 7, 8]]\n"
          ],
          "name": "stdout"
        }
      ]
    },
    {
      "cell_type": "markdown",
      "metadata": {
        "id": "98aq8dLtbQxw",
        "colab_type": "text"
      },
      "source": [
        "# [(1, 1), (2, 1), (3, 1), (1, 2), (2, 2), (3, 2), (1, 3), (2, 3), (3, 3)] "
      ]
    },
    {
      "cell_type": "code",
      "metadata": {
        "id": "XLWctZ_gdowY",
        "colab_type": "code",
        "colab": {
          "base_uri": "https://localhost:8080/",
          "height": 34
        },
        "outputId": "18de23c2-df88-4020-cacb-e310088b34b3"
      },
      "source": [
        "nlist3=[(m,n) for n in range(1,4) for m in range(1,4)]\n",
        "print(nlist3)"
      ],
      "execution_count": 77,
      "outputs": [
        {
          "output_type": "stream",
          "text": [
            "[(1, 1), (2, 1), (3, 1), (1, 2), (2, 2), (3, 2), (1, 3), (2, 3), (3, 3)]\n"
          ],
          "name": "stdout"
        }
      ]
    },
    {
      "cell_type": "markdown",
      "metadata": {
        "id": "ug9Nqa5eRtOe",
        "colab_type": "text"
      },
      "source": [
        "# Question: Fibonacci series\n",
        "\n"
      ]
    },
    {
      "cell_type": "code",
      "metadata": {
        "id": "0H4XoB4CtZ3p",
        "colab_type": "code",
        "outputId": "a930988c-201d-46d0-eaaf-b5b5ad495980",
        "colab": {
          "base_uri": "https://localhost:8080/",
          "height": 204
        }
      },
      "source": [
        "#defining fibonacci fun\n",
        "def fib(k):\n",
        "  a=0\n",
        "  b=1\n",
        "\n",
        "  if k<=0:\n",
        "    print(\"not valid input\")\n",
        "  else:\n",
        "    print (a)\n",
        "    print (b)\n",
        "\n",
        "    for e in range(1,k):\n",
        "      c=a+b\n",
        "      a=b\n",
        "      b=c\n",
        "      print (c)\n",
        "\n",
        "#taking input\n",
        "k=int(input(\"Input for Fibonacci series: \"))\n",
        "\n",
        "#calling fun\n",
        "fib(k)"
      ],
      "execution_count": 0,
      "outputs": [
        {
          "output_type": "stream",
          "text": [
            "Input for Fibonacci series: 9\n",
            "0\n",
            "1\n",
            "1\n",
            "2\n",
            "3\n",
            "5\n",
            "8\n",
            "13\n",
            "21\n",
            "34\n"
          ],
          "name": "stdout"
        }
      ]
    },
    {
      "cell_type": "markdown",
      "metadata": {
        "id": "b1eDN9D6oKsl",
        "colab_type": "text"
      },
      "source": [
        "# Question: Function that takes the sum of even numbers and odd numbers seperately"
      ]
    },
    {
      "cell_type": "code",
      "metadata": {
        "id": "Zc-A1Pn4pZtf",
        "colab_type": "code",
        "outputId": "a971416d-83cb-426d-80ee-741eaedabf9a",
        "colab": {
          "base_uri": "https://localhost:8080/",
          "height": 34
        }
      },
      "source": [
        "#why only last line is being executed??\n",
        "h=list(range(20))\n",
        "h\n",
        "type(h)\n"
      ],
      "execution_count": 0,
      "outputs": [
        {
          "output_type": "execute_result",
          "data": {
            "text/plain": [
              "list"
            ]
          },
          "metadata": {
            "tags": []
          },
          "execution_count": 3
        }
      ]
    },
    {
      "cell_type": "code",
      "metadata": {
        "id": "X8CVJ1RTqVhN",
        "colab_type": "code",
        "outputId": "84fc11bf-ffde-456e-b338-2420281b8071",
        "colab": {
          "base_uri": "https://localhost:8080/",
          "height": 51
        }
      },
      "source": [
        "#def func\n",
        "def add_val(g):\n",
        "  q=0\n",
        "  r=0\n",
        "  for each in list(range(g+1)):\n",
        "    if each%2==0:\n",
        "      q+=each\n",
        "    else:\n",
        "      r+=each\n",
        "  print(\"Even: \", q)\n",
        "  print(\"Odd: \", r)\n",
        "\n",
        "#calling fun\n",
        "add_val(5)"
      ],
      "execution_count": 0,
      "outputs": [
        {
          "output_type": "stream",
          "text": [
            "Even:  6\n",
            "Odd:  9\n"
          ],
          "name": "stdout"
        }
      ]
    },
    {
      "cell_type": "markdown",
      "metadata": {
        "id": "0RMcUXfguAuR",
        "colab_type": "text"
      },
      "source": [
        "# Question: Implement a function longestWord() that takes a list of words and returns the longest one. "
      ]
    },
    {
      "cell_type": "code",
      "metadata": {
        "id": "v2WH1q-dvJrM",
        "colab_type": "code",
        "outputId": "f3b6d0f0-6f45-4fd4-ca52-69ecd383f1f5",
        "colab": {
          "base_uri": "https://localhost:8080/",
          "height": 68
        }
      },
      "source": [
        "#Taking input list from users and splitting with comma as delimiter\n",
        "splt=input(\"Give the list of words:\").split(\",\")\n",
        "print(splt)\n",
        "\n",
        "#Sorting the list in desending order of the length and print the word with largest length\n",
        "splt.sort(key=len, reverse=True)\n",
        "print(\"The longest word amongst the input is: {}\".format(splt[0])))"
      ],
      "execution_count": 0,
      "outputs": [
        {
          "output_type": "stream",
          "text": [
            "Give the list of words:longestword, smallword, jkl, lloonnggeessttword, abcd, qwerty\n",
            "['longestword', ' smallword', ' jkl', ' lloonnggeessttword', ' abcd', ' qwerty']\n",
            "The longest word amongst the input is:  lloonnggeessttword\n"
          ],
          "name": "stdout"
        }
      ]
    },
    {
      "cell_type": "markdown",
      "metadata": {
        "id": "fFvt2yNTj6a_",
        "colab_type": "text"
      },
      "source": [
        "# Question: Write a Python Program(with class concepts) to find the area of the triangle using the below formula. \n",
        " \n",
        "area = (s*(s-a)*(s-b)*(s-c)) ** 0.5 \n",
        " \n",
        "Function to take the length of the sides of triangle from user should be defined in the parent class and function to calculate the area should be defined in subclass."
      ]
    },
    {
      "cell_type": "code",
      "metadata": {
        "id": "cUHDenOxdItU",
        "colab_type": "code",
        "outputId": "57bc84dc-a523-46c8-e580-2d61c73a9a9c",
        "colab": {
          "base_uri": "https://localhost:8080/",
          "height": 34
        }
      },
      "source": [
        "class Sides:\n",
        "  def __init__(self, a,b,c):\n",
        "    self.a=a\n",
        "    self.b=b\n",
        "    self.c=c\n",
        "\n",
        "class AreaofTriangle(Sides):\n",
        "  def get_area(self):\n",
        "    #super(AreaofTriangle, self).__inti__(*args)\n",
        "    s=(self.a+self.b+self.c)/2\n",
        "    area = (s*(s-self.a)*(s-self.b)*(s-self.c)) **0.5\n",
        "    print(area)\n",
        "\n",
        "test= AreaofTriangle(3,3,3)\n",
        "test.get_area()"
      ],
      "execution_count": 0,
      "outputs": [
        {
          "output_type": "stream",
          "text": [
            "3.897114317029974\n"
          ],
          "name": "stdout"
        }
      ]
    },
    {
      "cell_type": "markdown",
      "metadata": {
        "id": "VZ1_79RNdJi_",
        "colab_type": "text"
      },
      "source": [
        "\n",
        "# Write a function filter_long_words() that takes a list of words and an integer n and returns the list of words that are longer than n"
      ]
    },
    {
      "cell_type": "code",
      "metadata": {
        "id": "sLQfxEcvc6Au",
        "colab_type": "code",
        "outputId": "9c5ba1da-308e-4435-c50b-dcd0efd78d21",
        "colab": {
          "base_uri": "https://localhost:8080/",
          "height": 85
        }
      },
      "source": [
        "#defining fun\n",
        "def filter_long_words(w):\n",
        "  for each in w:\n",
        "    if len(each)>n:\n",
        "      print (each)\n",
        "  \n",
        "#taking input\n",
        "n= int(input(\"Length of word should be(n): \")) \n",
        "w= list(input(\"list of words: \").split(\",\"))\n",
        "\n",
        "#calling fun\n",
        "filter_long_words(w)"
      ],
      "execution_count": 0,
      "outputs": [
        {
          "output_type": "stream",
          "text": [
            "Length of word should be(n): 4\n",
            "list of words: asd,lkjh,poiuyt,seventeen\n",
            "poiuyt\n",
            "seventeen\n"
          ],
          "name": "stdout"
        }
      ]
    },
    {
      "cell_type": "markdown",
      "metadata": {
        "id": "AIaVV_U6-fT_",
        "colab_type": "text"
      },
      "source": [
        "# Write a Python program using function concept that maps  list of words into a list of integers representing the lengths of the corresponding words​. "
      ]
    },
    {
      "cell_type": "code",
      "metadata": {
        "id": "0KQuRbiac8QC",
        "colab_type": "code",
        "outputId": "04721627-b202-4994-a452-e8e72a72fa0a",
        "colab": {
          "base_uri": "https://localhost:8080/",
          "height": 102
        }
      },
      "source": [
        "#input from user\n",
        "wrdlist=input(\"Type some list of words: \").split(\",\")\n",
        "\n",
        "#fun to get len\n",
        "def conv(word):\n",
        "  return (len(word))\n",
        "\n",
        "#mapping the list to fun\n",
        "size = list(map(conv,wrdlist))\n",
        "\n",
        "#looping for print\n",
        "for e in wrdlist:\n",
        "  print (e ,\" has the length of \", len(e))"
      ],
      "execution_count": 0,
      "outputs": [
        {
          "output_type": "stream",
          "text": [
            "Type some list of words: one, three, seven, hundred\n",
            "one  has the length of  3\n",
            " three  has the length of  6\n",
            " seven  has the length of  6\n",
            " hundred  has the length of  8\n"
          ],
          "name": "stdout"
        }
      ]
    },
    {
      "cell_type": "markdown",
      "metadata": {
        "id": "cuh-v_UyC6jX",
        "colab_type": "text"
      },
      "source": [
        "# Write a Python function which takes a character (i.e. a string of length 1) and returns True if it is a vowel, False otherwise"
      ]
    },
    {
      "cell_type": "code",
      "metadata": {
        "id": "EvZTqKhNC7__",
        "colab_type": "code",
        "outputId": "4919fdbd-a518-4f45-b336-091fb68dee12",
        "colab": {
          "base_uri": "https://localhost:8080/",
          "height": 51
        }
      },
      "source": [
        "#Check if input is of length 1\n",
        "char=input(\"Please input a single character: \")\n",
        "if len(char)>1:\n",
        "  print(\"Only single character accpeted!\")\n",
        "\n",
        "#fun to check if input is vowel\n",
        "def chek(char):\n",
        "  char.lower()\n",
        "  return(bool(char==\"a\" or char==\"e\" or char==\"i\" or char==\"o\" or char==\"u\"))\n",
        "\n",
        "#print the output\n",
        "if(chek(char)):\n",
        "  print(\"True, {} is a vowel\".format(char))\n",
        "else:\n",
        "  print(\"False, {} is not a vowel\".format(char))"
      ],
      "execution_count": 0,
      "outputs": [
        {
          "output_type": "stream",
          "text": [
            "Please input a single character: P\n",
            "False, P is not a vowel\n"
          ],
          "name": "stdout"
        }
      ]
    }
  ]
}